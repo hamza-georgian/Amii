{
 "cells": [
  {
   "cell_type": "markdown",
   "id": "e3be4992",
   "metadata": {},
   "source": [
    "\n",
    "# Understanding Supervised Learning\n",
    "### Driving Smarter Decisions in Oil & Gas\n",
    "\n",
    "**Audience:** Executives at ABC Oil & Gas  \n",
    "**Duration:** 3 Hours (with blended follow-up resources)\n",
    "\n",
    "This notebook supports the live workshop by combining:\n",
    "- Explanations (executive-friendly, no heavy math)\n",
    "- Case studies from Oil & Gas\n",
    "- Interactive activities\n",
    "- Mini assessments (polls, quizzes, reflections)\n"
   ]
  },
  {
   "cell_type": "markdown",
   "id": "f9e2d026-e1bc-4ce1-98ff-51034c02086f",
   "metadata": {},
   "source": [
    "<img src=\"module1.png\" alt=\"Module 1 Poster\" style=\"display:block; margin-left:auto; margin-right:auto;\" width=\"500\">\r\n",
    "\r\n"
   ]
  },
  {
   "cell_type": "markdown",
   "id": "46204852",
   "metadata": {},
   "source": [
    "\n",
    "## Module 1: Demystifying Supervised Learning\n",
    "\n",
    "Supervised learning is when we train an algorithm using **labeled data**.\n",
    "- **Classification:** Predict categories (e.g., \"safe\" vs \"unsafe equipment\"), used for qualitative data\n",
    "- **Regression:** Predict numbers (e.g., production forecast in barrels/day), used for quantitative data\n",
    "\n",
    "**Analogy:** Teaching a child with flashcards.\n"
   ]
  },
  {
   "cell_type": "markdown",
   "id": "1cd0f7e0-ade0-4fa3-92e4-3ba15fec0cf1",
   "metadata": {},
   "source": [
    "**Practical Hands-On Demonstration**"
   ]
  },
  {
   "cell_type": "code",
   "execution_count": 16,
   "id": "bea9f5a2",
   "metadata": {},
   "outputs": [],
   "source": [
    "import pandas as pd\n",
    "from sklearn.model_selection import train_test_split\n",
    "from sklearn.linear_model import LogisticRegression\n",
    "from sklearn.metrics import classification_report"
   ]
  },
  {
   "cell_type": "markdown",
   "id": "e30d8930-0a2c-4aee-9014-d8f8c728cc06",
   "metadata": {},
   "source": [
    "**What do these code lines mean?** <br> These code lines load the essential tools we need to build and test a simple machine learning model. Pandas helps us organize data like spreadsheets, train_test_split divides the data so the model can practice and be tested, Logistic Regression is the method we use to predict yes/no outcomes (like whether equipment will fail), and classification_report gives us a report card to see how well the model performed. Together, they set up the foundation for applying supervised learning in real business problems."
   ]
  },
  {
   "cell_type": "code",
   "execution_count": null,
   "id": "6fa3fdae-51a7-4dff-b719-5ecfe0946fcc",
   "metadata": {},
   "outputs": [],
   "source": [
    "# Simulated sensor dataset\n",
    "data = {\n",
    "    \"Temperature\": [70, 85, 90, 60, 75, 95, 100, 55],\n",
    "    \"Pressure\": [30, 45, 50, 25, 35, 55, 60, 20],\n",
    "    \"Failure\": [0, 1, 1, 0, 0, 1, 1, 0]  # 1=Failure, 0=No Failure\n",
    "}"
   ]
  },
  {
   "cell_type": "markdown",
   "id": "4e29639e-529f-4953-8ff4-e2f90566db66",
   "metadata": {},
   "source": [
    "**What do these code lines mean?** <br> This small dataset represents machine readings that combine Temperature and Pressure to check whether a machine fails or not. Each row is like a daily observation — for example, when the temperature is 85 and pressure is 45, the machine failed (Failure = 1). The Failure column is the answer key (1 = failure, 0 = no failure) that the supervised learning model will learn from, so later it can predict failures for new readings."
   ]
  },
  {
   "cell_type": "code",
   "execution_count": null,
   "id": "1b21cf53-03d9-48c4-b424-bf8db026b27e",
   "metadata": {},
   "outputs": [],
   "source": [
    "df = pd.DataFrame(data)"
   ]
  },
  {
   "cell_type": "markdown",
   "id": "74c9b300-1402-4946-8ec4-b599ba2f8e4a",
   "metadata": {},
   "source": [
    "**What does this code line mean?** <br> This line takes the raw dataset we created (with temperature, pressure, and failure values) and turns it into a DataFrame, which is like a clean, Excel-style table inside Python. This makes it easier to view, manage, and analyze the data in an organized way."
   ]
  },
  {
   "cell_type": "code",
   "execution_count": null,
   "id": "7f2bc9bc-9761-45c8-9e4e-332cf731a458",
   "metadata": {},
   "outputs": [],
   "source": [
    "X = df[[\"Temperature\", \"Pressure\"]]\n",
    "y = df[\"Failure\"]"
   ]
  },
  {
   "cell_type": "markdown",
   "id": "f4903d5f-dbd1-4895-8ee7-d1d652240d84",
   "metadata": {},
   "source": [
    "**What do these code lines mean?** <br> These lines split the table into two parts:\n",
    "X contains the inputs (Temperature and Pressure), which are the conditions we use to make predictions.\n",
    "y contains the output/answer (Failure), which tells us whether the machine failed or not.\n",
    "In simple terms, we’re saying: “Let’s use temperature and pressure readings (X) to predict if a machine will fail (y).”"
   ]
  },
  {
   "cell_type": "code",
   "execution_count": null,
   "id": "b23f0718-ae27-48a6-be7b-b7b733192253",
   "metadata": {},
   "outputs": [],
   "source": [
    "X_train, X_test, y_train, y_test = train_test_split(X, y, test_size=0.3, random_state=42)"
   ]
  },
  {
   "cell_type": "markdown",
   "id": "08806aff-8e32-46dd-b9b5-5f028adf1aab",
   "metadata": {},
   "source": [
    "**What does this code line mean?** <br> This line splits the data into two groups: one for training (teaching the model how to recognize patterns) and one for testing (checking if the model actually learned correctly). About 70% of the data is used to train, and 30% is saved aside to test. The random_state=42 just makes sure the split is the same every time, so results are consistent."
   ]
  },
  {
   "cell_type": "code",
   "execution_count": null,
   "id": "67c9c4cd-3d09-426b-976d-489c33399580",
   "metadata": {},
   "outputs": [],
   "source": [
    "model = LogisticRegression()"
   ]
  },
  {
   "cell_type": "markdown",
   "id": "808f39bf-efd8-4132-aa7b-f47aa7741aa5",
   "metadata": {},
   "source": [
    "**What does this code line mean?** <br> This line creates a Logistic Regression model, which is like a smart decision tool. It will learn patterns from the training data (temperature and pressure) to predict a simple yes/no outcome — in this case, whether the machine will fail or not. Think of it as setting up a digital assistant that specializes in answering “failure vs. no failure” questions."
   ]
  },
  {
   "cell_type": "code",
   "execution_count": null,
   "id": "f002893c-f7e5-47cd-9d11-96467e07ee22",
   "metadata": {},
   "outputs": [],
   "source": [
    "model.fit(X_train, y_train)"
   ]
  },
  {
   "cell_type": "markdown",
   "id": "6fc6769b-44b7-44d3-b9d8-0041f4a0845b",
   "metadata": {},
   "source": [
    "**What does this code line mean?** <br> This line is where the model actually learns from the training data. By looking at past examples of temperature, pressure, and whether failure happened, the model figures out the patterns that link inputs (X) to the outcome (y). In simple terms, it’s like “teaching” the model using historical data so it can make predictions on new situations."
   ]
  },
  {
   "cell_type": "code",
   "execution_count": null,
   "id": "d7f74b76-b470-422e-94ba-fd514115e0bb",
   "metadata": {},
   "outputs": [],
   "source": [
    "y_pred = model.predict(X_test)"
   ]
  },
  {
   "cell_type": "markdown",
   "id": "1600b2d0-48cc-407d-95db-a971a82ae380",
   "metadata": {},
   "source": [
    "**What does this code line mean?** <br> This line asks the trained model to make predictions on the test data it has never seen before. Using only temperature and pressure from the test set, the model tries to guess whether each machine will fail (yes/no). It’s like giving a student a quiz after studying — we see if they can apply what they learned to new questions."
   ]
  },
  {
   "cell_type": "code",
   "execution_count": null,
   "id": "82b3481e-6df7-4af2-8e27-0eb4f89586a5",
   "metadata": {},
   "outputs": [],
   "source": [
    "print(classification_report(y_test, y_pred))"
   ]
  },
  {
   "cell_type": "markdown",
   "id": "62b7048a-69ef-4ebf-a31a-28e6975b3041",
   "metadata": {},
   "source": [
    "**What does this code line mean?** <br> This line prints out a report card for the model. It shows how well the model did on the test by giving measures like accuracy (how often it was right), precision (how careful it was when predicting failure), recall (how many actual failures it caught), and F1-score (a balanced overall grade). In simple terms, it tells us whether the model is reliable enough to be trusted for real-world decisions."
   ]
  },
  {
   "cell_type": "markdown",
   "id": "7d7b65a9",
   "metadata": {},
   "source": [
    "\n",
    "👉 **Activity 1.1** <br>\n",
    "**Self-Reflection:** Which decisions in your role could benefit from “predicting outcomes” like this?\n"
   ]
  },
  {
   "cell_type": "markdown",
   "id": "d6eb6a91-0652-465b-ab46-d7a5f259c0ba",
   "metadata": {},
   "source": [
    "<img src=\"module2.png\" alt=\"Module 2 Poster\" style=\"display:block; margin-left:auto; margin-right:auto;\" width=\"500\">\r\n"
   ]
  },
  {
   "cell_type": "markdown",
   "id": "645a705e",
   "metadata": {},
   "source": [
    "\n",
    "## Module 2: Applications in Oil & Gas\n",
    "\n",
    "Supervised learning is already transforming oil & gas:\n",
    "\n",
    "1. **Predictive Maintenance** – Prevent equipment breakdowns.  \n",
    "2. **Safety & Risk Management** – Predict accident likelihood.  \n",
    "3. **Production Optimization** – Forecast oil production rates.  \n"
   ]
  },
  {
   "cell_type": "markdown",
   "id": "e952c4a2-4f90-4187-bce5-75cf9d8e2920",
   "metadata": {},
   "source": [
    "**Practical Hands-On Demonstration**"
   ]
  },
  {
   "cell_type": "code",
   "execution_count": null,
   "id": "e3385db1",
   "metadata": {},
   "outputs": [],
   "source": [
    "import numpy as np\n",
    "from sklearn.linear_model import LinearRegression\n",
    "import matplotlib.pyplot as plt"
   ]
  },
  {
   "cell_type": "markdown",
   "id": "72dcf16f-4635-4572-a5d9-3b50b3561407",
   "metadata": {},
   "source": [
    "**What do these code lines mean?** <br> These lines bring in the tools we need to predict numbers instead of yes/no answers.\n",
    "NumPy (np) helps us handle lists of numbers easily, like days or production values.\n",
    "LinearRegression is the model that draws the best straight line through data points, helping us forecast continuous values (like daily oil production).\n",
    "Matplotlib (plt) is used to create simple charts, so we can see the trend visually.\n",
    "In short: these tools let us analyze numbers, build a forecasting model, and show the results in a graph."
   ]
  },
  {
   "cell_type": "code",
   "execution_count": null,
   "id": "4df92260-3993-4365-90be-4dd8bf418a43",
   "metadata": {},
   "outputs": [],
   "source": [
    "# Simulated well production dataset\n",
    "days = np.array([1, 2, 3, 4, 5, 6, 7, 8, 9, 10]).reshape(-1,1)\n",
    "output = np.array([100, 98, 96, 92, 90, 88, 85, 83, 81, 79])"
   ]
  },
  {
   "cell_type": "markdown",
   "id": "9dcc8ace-0611-4d7a-9178-4e1ec578b5d6",
   "metadata": {},
   "source": [
    "**What do these code lines mean?** <br> This code sets up a small dataset to show how production changes over time.\n",
    "The first line (days) lists days 1 through 10, reshaped so the computer can read them properly as input data.\n",
    "The second line (output) lists the oil production values for each of those days, which are slowly decreasing.\n",
    "In simple terms, we’re telling the model: “Here are 10 days of production data — can you learn the trend so we can forecast future output?”"
   ]
  },
  {
   "cell_type": "code",
   "execution_count": null,
   "id": "bcee696e-f744-46e0-9517-6b095910be33",
   "metadata": {},
   "outputs": [],
   "source": [
    "model = LinearRegression()"
   ]
  },
  {
   "cell_type": "markdown",
   "id": "eb056112-63ad-4990-9fc3-41bce3757818",
   "metadata": {},
   "source": [
    "**What does this code line mean?** <br> This line creates a Linear Regression model, which is like drawing the best straight line through the data points. The model will use that line to understand the overall trend — in this case, how production decreases day by day — and then use it to predict future values."
   ]
  },
  {
   "cell_type": "code",
   "execution_count": null,
   "id": "8aac3a8a-4865-454b-b6aa-b354f2fa831f",
   "metadata": {},
   "outputs": [],
   "source": [
    "model.fit(days, output)"
   ]
  },
  {
   "cell_type": "markdown",
   "id": "d31019f0-270d-45e7-a411-9d7c1890fbc9",
   "metadata": {},
   "source": [
    "**What does this code line mean?** <br> This line tells the Linear Regression model to learn from the data. It looks at the days (input) and the production numbers (output) and figures out the best straight line that explains the relationship between them. In simple terms, it’s like teaching the model the trend: “As days increase, production steadily decreases.”"
   ]
  },
  {
   "cell_type": "code",
   "execution_count": null,
   "id": "78e7f6fe-1c85-4591-b3c8-6bc6f7e82f23",
   "metadata": {},
   "outputs": [],
   "source": [
    "predictions = model.predict(days)"
   ]
  },
  {
   "cell_type": "markdown",
   "id": "d838a325-70b5-4dbe-8bbf-dffab91c67e8",
   "metadata": {},
   "source": [
    "**What does this code line mean?** <br> This line asks the trained model to make predictions for the production values based on the given days. Using the trend it learned, the model fills in or forecasts the numbers — essentially drawing the best-fit line through the data points. In plain terms, it’s like saying: “Given what I’ve seen, here’s what production should look like on each day.”"
   ]
  },
  {
   "cell_type": "code",
   "execution_count": null,
   "id": "941c157d-4b24-4733-bc9a-7a22f3665ca0",
   "metadata": {},
   "outputs": [],
   "source": [
    "plt.scatter(days, output, label=\"Actual Production\")\n",
    "plt.plot(days, predictions, label=\"Predicted Trend\", linestyle=\"--\")\n",
    "plt.xlabel(\"Days\")\n",
    "plt.ylabel(\"Barrels of Oil\")\n",
    "plt.legend()\n",
    "plt.show()"
   ]
  },
  {
   "cell_type": "markdown",
   "id": "611ccea1-a9ee-4410-b673-615b5e8c499e",
   "metadata": {},
   "source": [
    "**What do these code lines mean?** <br> These lines create a chart to compare the real production numbers with the model’s predictions.\n",
    "The scatter plot (dots) shows the actual oil production for each day.\n",
    "The dashed line shows the trend the model learned, making it easy to see the forecast.\n",
    "Labels on the axes and a legend make the chart clear and professional.\n",
    "In simple terms, this graph lets executives see both reality and prediction side by side, showing how supervised learning turns raw data into insights."
   ]
  },
  {
   "cell_type": "markdown",
   "id": "2c881b6b",
   "metadata": {},
   "source": [
    "\n",
    "👉 **Activity 2.1:** Match classification/regression to scenarios  \n",
    "- Equipment Failure (Safe/Unsafe) → ?  \n",
    "- Forecasting Production Output → ?  \n",
    "- Predicting Accident Severity → ?  \n"
   ]
  },
  {
   "cell_type": "markdown",
   "id": "d9b39379-1bcf-4692-94ac-0d5b21c85414",
   "metadata": {},
   "source": [
    "\n",
    "👉 **Activity 2.2:** Match classification/regression to scenarios  \n",
    "- Equipment Failure (Safe/Unsafe) → Classification  \n",
    "- Forecasting Production Output → Regression  \n",
    "- Predicting Accident Severity → Classification  \n"
   ]
  },
  {
   "cell_type": "markdown",
   "id": "9f71e303-a3cc-49be-9bd2-a2bdb59dca7f",
   "metadata": {},
   "source": [
    "<img src=\"module3.png\" alt=\"Module 3 Poster\" style=\"display:block; margin-left:auto; margin-right:auto;\" width=\"500\">\r\n"
   ]
  },
  {
   "cell_type": "markdown",
   "id": "13bf22e0",
   "metadata": {},
   "source": [
    "\n",
    "## Module 3: Responsible Leadership\n",
    "\n",
    "Executives must:  \n",
    "- Champion **AI as a partner, not a replacement**  \n",
    "- Ensure **data quality & governance**  \n",
    "- Evaluate **bias & trustworthiness**  \n",
    "- Drive adoption through **pilot projects & scaling**  \n"
   ]
  },
  {
   "cell_type": "markdown",
   "id": "a1b6c4ba",
   "metadata": {},
   "source": [
    "**Activity 3.1**  <br>\n",
    "❓ **Poll:** Would you trust AI to recommend shutting down a drilling rig?  \n",
    "- Yes  \n",
    "- No  \n",
    "- Depends (on human oversight)  \n",
    "\n",
    "👉**Activity 3.2** <br> **Summative Assessment (Action Plan):** Write down:  \n",
    "1. One supervised learning use case in your division  \n",
    "2. One risk you want to mitigate  \n",
    "3. One action you can take in the next 90 days  \n"
   ]
  }
 ],
 "metadata": {
  "kernelspec": {
   "display_name": "Python 3 (ipykernel)",
   "language": "python",
   "name": "python3"
  },
  "language_info": {
   "codemirror_mode": {
    "name": "ipython",
    "version": 3
   },
   "file_extension": ".py",
   "mimetype": "text/x-python",
   "name": "python",
   "nbconvert_exporter": "python",
   "pygments_lexer": "ipython3",
   "version": "3.11.7"
  }
 },
 "nbformat": 4,
 "nbformat_minor": 5
}
